{
  "nbformat": 4,
  "nbformat_minor": 0,
  "metadata": {
    "colab": {
      "provenance": []
    },
    "kernelspec": {
      "name": "python3",
      "display_name": "Python 3"
    },
    "language_info": {
      "name": "python"
    }
  },
  "cells": [
    {
      "cell_type": "markdown",
      "source": [
        "## Introduction to Python dataframes\n"
      ],
      "metadata": {
        "id": "-txF5pqvuOpb"
      }
    },
    {
      "cell_type": "markdown",
      "source": [
        "The Python library for dataframes is called Pandas and is usually shortened to pd. "
      ],
      "metadata": {
        "id": "YSVb4NqJucnt"
      }
    },
    {
      "cell_type": "code",
      "execution_count": null,
      "metadata": {
        "id": "sYXIDzZDtShm"
      },
      "outputs": [],
      "source": [
        "import pandas as pd\n",
        "import numpy as np"
      ]
    },
    {
      "cell_type": "markdown",
      "source": [
        "Now we can create our first dataframe. First we create a dictionary with raw data."
      ],
      "metadata": {
        "id": "C1UTcFfYwE4l"
      }
    },
    {
      "cell_type": "code",
      "source": [
        "data = {'Company':['a', 'b', 'c', 'd', 'e', 'f'], 'Total assets': [51500,10400,96000,1200,65700,62000], 'Employees': [10,12,22,1,16,12]}"
      ],
      "metadata": {
        "id": "vi6rSQTVurfp"
      },
      "execution_count": null,
      "outputs": []
    },
    {
      "cell_type": "code",
      "source": [
        "df = pd.DataFrame(data)\n",
        "print(df)"
      ],
      "metadata": {
        "colab": {
          "base_uri": "https://localhost:8080/"
        },
        "id": "Xc89lJk2xRM7",
        "outputId": "692b466a-09b4-45ca-9d4b-9b2e06a6917e"
      },
      "execution_count": null,
      "outputs": [
        {
          "output_type": "stream",
          "name": "stdout",
          "text": [
            "  Company  Total assets  Employees\n",
            "0       a         51500         10\n",
            "1       b         10400         12\n",
            "2       c         96000         22\n",
            "3       d          1200          1\n",
            "4       e         65700         16\n",
            "5       f         62000         12\n"
          ]
        }
      ]
    },
    {
      "cell_type": "markdown",
      "source": [
        "## Indexing"
      ],
      "metadata": {
        "id": "SpHKoL-xcpXw"
      }
    },
    {
      "cell_type": "code",
      "source": [
        "df.loc[1, 'Employees']"
      ],
      "metadata": {
        "id": "E66MmAMvy0Wp",
        "colab": {
          "base_uri": "https://localhost:8080/"
        },
        "outputId": "251ad3d3-b319-4229-cb93-1472a5cb416f"
      },
      "execution_count": null,
      "outputs": [
        {
          "output_type": "execute_result",
          "data": {
            "text/plain": [
              "12"
            ]
          },
          "metadata": {},
          "execution_count": 4
        }
      ]
    },
    {
      "cell_type": "code",
      "source": [
        "df.loc[1]"
      ],
      "metadata": {
        "colab": {
          "base_uri": "https://localhost:8080/"
        },
        "id": "-FDeunVncluX",
        "outputId": "459f935c-8aca-40b9-b416-2f1c27af4431"
      },
      "execution_count": null,
      "outputs": [
        {
          "output_type": "execute_result",
          "data": {
            "text/plain": [
              "Company             b\n",
              "Total assets    10400\n",
              "Employees          12\n",
              "Name: 1, dtype: object"
            ]
          },
          "metadata": {},
          "execution_count": 5
        }
      ]
    },
    {
      "cell_type": "code",
      "source": [
        "df['Company']"
      ],
      "metadata": {
        "colab": {
          "base_uri": "https://localhost:8080/"
        },
        "id": "kEyKcRjnFlxq",
        "outputId": "9c4b4126-44eb-42c6-db6c-822d83c4ca92"
      },
      "execution_count": null,
      "outputs": [
        {
          "output_type": "execute_result",
          "data": {
            "text/plain": [
              "0    a\n",
              "1    b\n",
              "2    c\n",
              "3    d\n",
              "4    e\n",
              "5    f\n",
              "Name: Company, dtype: object"
            ]
          },
          "metadata": {},
          "execution_count": 6
        }
      ]
    },
    {
      "cell_type": "code",
      "source": [
        "df.iloc[1,0]"
      ],
      "metadata": {
        "colab": {
          "base_uri": "https://localhost:8080/",
          "height": 35
        },
        "id": "sT8BYszMFptV",
        "outputId": "4f096681-a0bc-41ac-e097-eac8cf30d820"
      },
      "execution_count": null,
      "outputs": [
        {
          "output_type": "execute_result",
          "data": {
            "text/plain": [
              "'b'"
            ],
            "application/vnd.google.colaboratory.intrinsic+json": {
              "type": "string"
            }
          },
          "metadata": {},
          "execution_count": 7
        }
      ]
    },
    {
      "cell_type": "code",
      "source": [
        "df.iloc[:3]"
      ],
      "metadata": {
        "colab": {
          "base_uri": "https://localhost:8080/",
          "height": 143
        },
        "id": "u5IkPsjica1S",
        "outputId": "5e36cc68-4e71-4046-9dc7-2e284389de21"
      },
      "execution_count": null,
      "outputs": [
        {
          "output_type": "execute_result",
          "data": {
            "text/plain": [
              "  Company  Total assets  Employees\n",
              "0       a         51500         10\n",
              "1       b         10400         12\n",
              "2       c         96000         22"
            ],
            "text/html": [
              "\n",
              "  <div id=\"df-088cbc80-fa23-40fa-bf0c-99db8f4c733b\">\n",
              "    <div class=\"colab-df-container\">\n",
              "      <div>\n",
              "<style scoped>\n",
              "    .dataframe tbody tr th:only-of-type {\n",
              "        vertical-align: middle;\n",
              "    }\n",
              "\n",
              "    .dataframe tbody tr th {\n",
              "        vertical-align: top;\n",
              "    }\n",
              "\n",
              "    .dataframe thead th {\n",
              "        text-align: right;\n",
              "    }\n",
              "</style>\n",
              "<table border=\"1\" class=\"dataframe\">\n",
              "  <thead>\n",
              "    <tr style=\"text-align: right;\">\n",
              "      <th></th>\n",
              "      <th>Company</th>\n",
              "      <th>Total assets</th>\n",
              "      <th>Employees</th>\n",
              "    </tr>\n",
              "  </thead>\n",
              "  <tbody>\n",
              "    <tr>\n",
              "      <th>0</th>\n",
              "      <td>a</td>\n",
              "      <td>51500</td>\n",
              "      <td>10</td>\n",
              "    </tr>\n",
              "    <tr>\n",
              "      <th>1</th>\n",
              "      <td>b</td>\n",
              "      <td>10400</td>\n",
              "      <td>12</td>\n",
              "    </tr>\n",
              "    <tr>\n",
              "      <th>2</th>\n",
              "      <td>c</td>\n",
              "      <td>96000</td>\n",
              "      <td>22</td>\n",
              "    </tr>\n",
              "  </tbody>\n",
              "</table>\n",
              "</div>\n",
              "      <button class=\"colab-df-convert\" onclick=\"convertToInteractive('df-088cbc80-fa23-40fa-bf0c-99db8f4c733b')\"\n",
              "              title=\"Convert this dataframe to an interactive table.\"\n",
              "              style=\"display:none;\">\n",
              "        \n",
              "  <svg xmlns=\"http://www.w3.org/2000/svg\" height=\"24px\"viewBox=\"0 0 24 24\"\n",
              "       width=\"24px\">\n",
              "    <path d=\"M0 0h24v24H0V0z\" fill=\"none\"/>\n",
              "    <path d=\"M18.56 5.44l.94 2.06.94-2.06 2.06-.94-2.06-.94-.94-2.06-.94 2.06-2.06.94zm-11 1L8.5 8.5l.94-2.06 2.06-.94-2.06-.94L8.5 2.5l-.94 2.06-2.06.94zm10 10l.94 2.06.94-2.06 2.06-.94-2.06-.94-.94-2.06-.94 2.06-2.06.94z\"/><path d=\"M17.41 7.96l-1.37-1.37c-.4-.4-.92-.59-1.43-.59-.52 0-1.04.2-1.43.59L10.3 9.45l-7.72 7.72c-.78.78-.78 2.05 0 2.83L4 21.41c.39.39.9.59 1.41.59.51 0 1.02-.2 1.41-.59l7.78-7.78 2.81-2.81c.8-.78.8-2.07 0-2.86zM5.41 20L4 18.59l7.72-7.72 1.47 1.35L5.41 20z\"/>\n",
              "  </svg>\n",
              "      </button>\n",
              "      \n",
              "  <style>\n",
              "    .colab-df-container {\n",
              "      display:flex;\n",
              "      flex-wrap:wrap;\n",
              "      gap: 12px;\n",
              "    }\n",
              "\n",
              "    .colab-df-convert {\n",
              "      background-color: #E8F0FE;\n",
              "      border: none;\n",
              "      border-radius: 50%;\n",
              "      cursor: pointer;\n",
              "      display: none;\n",
              "      fill: #1967D2;\n",
              "      height: 32px;\n",
              "      padding: 0 0 0 0;\n",
              "      width: 32px;\n",
              "    }\n",
              "\n",
              "    .colab-df-convert:hover {\n",
              "      background-color: #E2EBFA;\n",
              "      box-shadow: 0px 1px 2px rgba(60, 64, 67, 0.3), 0px 1px 3px 1px rgba(60, 64, 67, 0.15);\n",
              "      fill: #174EA6;\n",
              "    }\n",
              "\n",
              "    [theme=dark] .colab-df-convert {\n",
              "      background-color: #3B4455;\n",
              "      fill: #D2E3FC;\n",
              "    }\n",
              "\n",
              "    [theme=dark] .colab-df-convert:hover {\n",
              "      background-color: #434B5C;\n",
              "      box-shadow: 0px 1px 3px 1px rgba(0, 0, 0, 0.15);\n",
              "      filter: drop-shadow(0px 1px 2px rgba(0, 0, 0, 0.3));\n",
              "      fill: #FFFFFF;\n",
              "    }\n",
              "  </style>\n",
              "\n",
              "      <script>\n",
              "        const buttonEl =\n",
              "          document.querySelector('#df-088cbc80-fa23-40fa-bf0c-99db8f4c733b button.colab-df-convert');\n",
              "        buttonEl.style.display =\n",
              "          google.colab.kernel.accessAllowed ? 'block' : 'none';\n",
              "\n",
              "        async function convertToInteractive(key) {\n",
              "          const element = document.querySelector('#df-088cbc80-fa23-40fa-bf0c-99db8f4c733b');\n",
              "          const dataTable =\n",
              "            await google.colab.kernel.invokeFunction('convertToInteractive',\n",
              "                                                     [key], {});\n",
              "          if (!dataTable) return;\n",
              "\n",
              "          const docLinkHtml = 'Like what you see? Visit the ' +\n",
              "            '<a target=\"_blank\" href=https://colab.research.google.com/notebooks/data_table.ipynb>data table notebook</a>'\n",
              "            + ' to learn more about interactive tables.';\n",
              "          element.innerHTML = '';\n",
              "          dataTable['output_type'] = 'display_data';\n",
              "          await google.colab.output.renderOutput(dataTable, element);\n",
              "          const docLink = document.createElement('div');\n",
              "          docLink.innerHTML = docLinkHtml;\n",
              "          element.appendChild(docLink);\n",
              "        }\n",
              "      </script>\n",
              "    </div>\n",
              "  </div>\n",
              "  "
            ]
          },
          "metadata": {},
          "execution_count": 8
        }
      ]
    },
    {
      "cell_type": "code",
      "source": [
        "new_df = df.set_index('Company')\n",
        "new_df"
      ],
      "metadata": {
        "id": "ZrofeHlOdzpV",
        "colab": {
          "base_uri": "https://localhost:8080/",
          "height": 269
        },
        "outputId": "51a17660-5f9d-495d-ed50-1b1575da127c"
      },
      "execution_count": null,
      "outputs": [
        {
          "output_type": "execute_result",
          "data": {
            "text/plain": [
              "         Total assets  Employees\n",
              "Company                         \n",
              "a               51500         10\n",
              "b               10400         12\n",
              "c               96000         22\n",
              "d                1200          1\n",
              "e               65700         16\n",
              "f               62000         12"
            ],
            "text/html": [
              "\n",
              "  <div id=\"df-779349e6-a938-4352-979e-6077915131f5\">\n",
              "    <div class=\"colab-df-container\">\n",
              "      <div>\n",
              "<style scoped>\n",
              "    .dataframe tbody tr th:only-of-type {\n",
              "        vertical-align: middle;\n",
              "    }\n",
              "\n",
              "    .dataframe tbody tr th {\n",
              "        vertical-align: top;\n",
              "    }\n",
              "\n",
              "    .dataframe thead th {\n",
              "        text-align: right;\n",
              "    }\n",
              "</style>\n",
              "<table border=\"1\" class=\"dataframe\">\n",
              "  <thead>\n",
              "    <tr style=\"text-align: right;\">\n",
              "      <th></th>\n",
              "      <th>Total assets</th>\n",
              "      <th>Employees</th>\n",
              "    </tr>\n",
              "    <tr>\n",
              "      <th>Company</th>\n",
              "      <th></th>\n",
              "      <th></th>\n",
              "    </tr>\n",
              "  </thead>\n",
              "  <tbody>\n",
              "    <tr>\n",
              "      <th>a</th>\n",
              "      <td>51500</td>\n",
              "      <td>10</td>\n",
              "    </tr>\n",
              "    <tr>\n",
              "      <th>b</th>\n",
              "      <td>10400</td>\n",
              "      <td>12</td>\n",
              "    </tr>\n",
              "    <tr>\n",
              "      <th>c</th>\n",
              "      <td>96000</td>\n",
              "      <td>22</td>\n",
              "    </tr>\n",
              "    <tr>\n",
              "      <th>d</th>\n",
              "      <td>1200</td>\n",
              "      <td>1</td>\n",
              "    </tr>\n",
              "    <tr>\n",
              "      <th>e</th>\n",
              "      <td>65700</td>\n",
              "      <td>16</td>\n",
              "    </tr>\n",
              "    <tr>\n",
              "      <th>f</th>\n",
              "      <td>62000</td>\n",
              "      <td>12</td>\n",
              "    </tr>\n",
              "  </tbody>\n",
              "</table>\n",
              "</div>\n",
              "      <button class=\"colab-df-convert\" onclick=\"convertToInteractive('df-779349e6-a938-4352-979e-6077915131f5')\"\n",
              "              title=\"Convert this dataframe to an interactive table.\"\n",
              "              style=\"display:none;\">\n",
              "        \n",
              "  <svg xmlns=\"http://www.w3.org/2000/svg\" height=\"24px\"viewBox=\"0 0 24 24\"\n",
              "       width=\"24px\">\n",
              "    <path d=\"M0 0h24v24H0V0z\" fill=\"none\"/>\n",
              "    <path d=\"M18.56 5.44l.94 2.06.94-2.06 2.06-.94-2.06-.94-.94-2.06-.94 2.06-2.06.94zm-11 1L8.5 8.5l.94-2.06 2.06-.94-2.06-.94L8.5 2.5l-.94 2.06-2.06.94zm10 10l.94 2.06.94-2.06 2.06-.94-2.06-.94-.94-2.06-.94 2.06-2.06.94z\"/><path d=\"M17.41 7.96l-1.37-1.37c-.4-.4-.92-.59-1.43-.59-.52 0-1.04.2-1.43.59L10.3 9.45l-7.72 7.72c-.78.78-.78 2.05 0 2.83L4 21.41c.39.39.9.59 1.41.59.51 0 1.02-.2 1.41-.59l7.78-7.78 2.81-2.81c.8-.78.8-2.07 0-2.86zM5.41 20L4 18.59l7.72-7.72 1.47 1.35L5.41 20z\"/>\n",
              "  </svg>\n",
              "      </button>\n",
              "      \n",
              "  <style>\n",
              "    .colab-df-container {\n",
              "      display:flex;\n",
              "      flex-wrap:wrap;\n",
              "      gap: 12px;\n",
              "    }\n",
              "\n",
              "    .colab-df-convert {\n",
              "      background-color: #E8F0FE;\n",
              "      border: none;\n",
              "      border-radius: 50%;\n",
              "      cursor: pointer;\n",
              "      display: none;\n",
              "      fill: #1967D2;\n",
              "      height: 32px;\n",
              "      padding: 0 0 0 0;\n",
              "      width: 32px;\n",
              "    }\n",
              "\n",
              "    .colab-df-convert:hover {\n",
              "      background-color: #E2EBFA;\n",
              "      box-shadow: 0px 1px 2px rgba(60, 64, 67, 0.3), 0px 1px 3px 1px rgba(60, 64, 67, 0.15);\n",
              "      fill: #174EA6;\n",
              "    }\n",
              "\n",
              "    [theme=dark] .colab-df-convert {\n",
              "      background-color: #3B4455;\n",
              "      fill: #D2E3FC;\n",
              "    }\n",
              "\n",
              "    [theme=dark] .colab-df-convert:hover {\n",
              "      background-color: #434B5C;\n",
              "      box-shadow: 0px 1px 3px 1px rgba(0, 0, 0, 0.15);\n",
              "      filter: drop-shadow(0px 1px 2px rgba(0, 0, 0, 0.3));\n",
              "      fill: #FFFFFF;\n",
              "    }\n",
              "  </style>\n",
              "\n",
              "      <script>\n",
              "        const buttonEl =\n",
              "          document.querySelector('#df-779349e6-a938-4352-979e-6077915131f5 button.colab-df-convert');\n",
              "        buttonEl.style.display =\n",
              "          google.colab.kernel.accessAllowed ? 'block' : 'none';\n",
              "\n",
              "        async function convertToInteractive(key) {\n",
              "          const element = document.querySelector('#df-779349e6-a938-4352-979e-6077915131f5');\n",
              "          const dataTable =\n",
              "            await google.colab.kernel.invokeFunction('convertToInteractive',\n",
              "                                                     [key], {});\n",
              "          if (!dataTable) return;\n",
              "\n",
              "          const docLinkHtml = 'Like what you see? Visit the ' +\n",
              "            '<a target=\"_blank\" href=https://colab.research.google.com/notebooks/data_table.ipynb>data table notebook</a>'\n",
              "            + ' to learn more about interactive tables.';\n",
              "          element.innerHTML = '';\n",
              "          dataTable['output_type'] = 'display_data';\n",
              "          await google.colab.output.renderOutput(dataTable, element);\n",
              "          const docLink = document.createElement('div');\n",
              "          docLink.innerHTML = docLinkHtml;\n",
              "          element.appendChild(docLink);\n",
              "        }\n",
              "      </script>\n",
              "    </div>\n",
              "  </div>\n",
              "  "
            ]
          },
          "metadata": {},
          "execution_count": 9
        }
      ]
    },
    {
      "cell_type": "code",
      "source": [
        "new_df.loc['b']"
      ],
      "metadata": {
        "colab": {
          "base_uri": "https://localhost:8080/"
        },
        "id": "2iamq55zd6Xu",
        "outputId": "2c08716a-4a1f-43a8-b1e9-f64ca900af67"
      },
      "execution_count": null,
      "outputs": [
        {
          "output_type": "execute_result",
          "data": {
            "text/plain": [
              "Total assets    10400\n",
              "Employees          12\n",
              "Name: b, dtype: int64"
            ]
          },
          "metadata": {},
          "execution_count": 10
        }
      ]
    },
    {
      "cell_type": "markdown",
      "source": [
        "## Calculations and Analysis"
      ],
      "metadata": {
        "id": "_Y6o4AlzfRDY"
      }
    },
    {
      "cell_type": "code",
      "source": [
        "df['Assets per employee'] = df['Total assets']/df['Employees']\n",
        "df"
      ],
      "metadata": {
        "colab": {
          "base_uri": "https://localhost:8080/",
          "height": 238
        },
        "id": "fKXpfrzbejEk",
        "outputId": "560f50e1-eb12-4458-8b50-7dd400397023"
      },
      "execution_count": null,
      "outputs": [
        {
          "output_type": "execute_result",
          "data": {
            "text/plain": [
              "  Company  Total assets  Employees  Assets per employee\n",
              "0       a         51500         10          5150.000000\n",
              "1       b         10400         12           866.666667\n",
              "2       c         96000         22          4363.636364\n",
              "3       d          1200          1          1200.000000\n",
              "4       e         65700         16          4106.250000\n",
              "5       f         62000         12          5166.666667"
            ],
            "text/html": [
              "\n",
              "  <div id=\"df-3fa73359-7c6e-413c-beac-64da913100f6\">\n",
              "    <div class=\"colab-df-container\">\n",
              "      <div>\n",
              "<style scoped>\n",
              "    .dataframe tbody tr th:only-of-type {\n",
              "        vertical-align: middle;\n",
              "    }\n",
              "\n",
              "    .dataframe tbody tr th {\n",
              "        vertical-align: top;\n",
              "    }\n",
              "\n",
              "    .dataframe thead th {\n",
              "        text-align: right;\n",
              "    }\n",
              "</style>\n",
              "<table border=\"1\" class=\"dataframe\">\n",
              "  <thead>\n",
              "    <tr style=\"text-align: right;\">\n",
              "      <th></th>\n",
              "      <th>Company</th>\n",
              "      <th>Total assets</th>\n",
              "      <th>Employees</th>\n",
              "      <th>Assets per employee</th>\n",
              "    </tr>\n",
              "  </thead>\n",
              "  <tbody>\n",
              "    <tr>\n",
              "      <th>0</th>\n",
              "      <td>a</td>\n",
              "      <td>51500</td>\n",
              "      <td>10</td>\n",
              "      <td>5150.000000</td>\n",
              "    </tr>\n",
              "    <tr>\n",
              "      <th>1</th>\n",
              "      <td>b</td>\n",
              "      <td>10400</td>\n",
              "      <td>12</td>\n",
              "      <td>866.666667</td>\n",
              "    </tr>\n",
              "    <tr>\n",
              "      <th>2</th>\n",
              "      <td>c</td>\n",
              "      <td>96000</td>\n",
              "      <td>22</td>\n",
              "      <td>4363.636364</td>\n",
              "    </tr>\n",
              "    <tr>\n",
              "      <th>3</th>\n",
              "      <td>d</td>\n",
              "      <td>1200</td>\n",
              "      <td>1</td>\n",
              "      <td>1200.000000</td>\n",
              "    </tr>\n",
              "    <tr>\n",
              "      <th>4</th>\n",
              "      <td>e</td>\n",
              "      <td>65700</td>\n",
              "      <td>16</td>\n",
              "      <td>4106.250000</td>\n",
              "    </tr>\n",
              "    <tr>\n",
              "      <th>5</th>\n",
              "      <td>f</td>\n",
              "      <td>62000</td>\n",
              "      <td>12</td>\n",
              "      <td>5166.666667</td>\n",
              "    </tr>\n",
              "  </tbody>\n",
              "</table>\n",
              "</div>\n",
              "      <button class=\"colab-df-convert\" onclick=\"convertToInteractive('df-3fa73359-7c6e-413c-beac-64da913100f6')\"\n",
              "              title=\"Convert this dataframe to an interactive table.\"\n",
              "              style=\"display:none;\">\n",
              "        \n",
              "  <svg xmlns=\"http://www.w3.org/2000/svg\" height=\"24px\"viewBox=\"0 0 24 24\"\n",
              "       width=\"24px\">\n",
              "    <path d=\"M0 0h24v24H0V0z\" fill=\"none\"/>\n",
              "    <path d=\"M18.56 5.44l.94 2.06.94-2.06 2.06-.94-2.06-.94-.94-2.06-.94 2.06-2.06.94zm-11 1L8.5 8.5l.94-2.06 2.06-.94-2.06-.94L8.5 2.5l-.94 2.06-2.06.94zm10 10l.94 2.06.94-2.06 2.06-.94-2.06-.94-.94-2.06-.94 2.06-2.06.94z\"/><path d=\"M17.41 7.96l-1.37-1.37c-.4-.4-.92-.59-1.43-.59-.52 0-1.04.2-1.43.59L10.3 9.45l-7.72 7.72c-.78.78-.78 2.05 0 2.83L4 21.41c.39.39.9.59 1.41.59.51 0 1.02-.2 1.41-.59l7.78-7.78 2.81-2.81c.8-.78.8-2.07 0-2.86zM5.41 20L4 18.59l7.72-7.72 1.47 1.35L5.41 20z\"/>\n",
              "  </svg>\n",
              "      </button>\n",
              "      \n",
              "  <style>\n",
              "    .colab-df-container {\n",
              "      display:flex;\n",
              "      flex-wrap:wrap;\n",
              "      gap: 12px;\n",
              "    }\n",
              "\n",
              "    .colab-df-convert {\n",
              "      background-color: #E8F0FE;\n",
              "      border: none;\n",
              "      border-radius: 50%;\n",
              "      cursor: pointer;\n",
              "      display: none;\n",
              "      fill: #1967D2;\n",
              "      height: 32px;\n",
              "      padding: 0 0 0 0;\n",
              "      width: 32px;\n",
              "    }\n",
              "\n",
              "    .colab-df-convert:hover {\n",
              "      background-color: #E2EBFA;\n",
              "      box-shadow: 0px 1px 2px rgba(60, 64, 67, 0.3), 0px 1px 3px 1px rgba(60, 64, 67, 0.15);\n",
              "      fill: #174EA6;\n",
              "    }\n",
              "\n",
              "    [theme=dark] .colab-df-convert {\n",
              "      background-color: #3B4455;\n",
              "      fill: #D2E3FC;\n",
              "    }\n",
              "\n",
              "    [theme=dark] .colab-df-convert:hover {\n",
              "      background-color: #434B5C;\n",
              "      box-shadow: 0px 1px 3px 1px rgba(0, 0, 0, 0.15);\n",
              "      filter: drop-shadow(0px 1px 2px rgba(0, 0, 0, 0.3));\n",
              "      fill: #FFFFFF;\n",
              "    }\n",
              "  </style>\n",
              "\n",
              "      <script>\n",
              "        const buttonEl =\n",
              "          document.querySelector('#df-3fa73359-7c6e-413c-beac-64da913100f6 button.colab-df-convert');\n",
              "        buttonEl.style.display =\n",
              "          google.colab.kernel.accessAllowed ? 'block' : 'none';\n",
              "\n",
              "        async function convertToInteractive(key) {\n",
              "          const element = document.querySelector('#df-3fa73359-7c6e-413c-beac-64da913100f6');\n",
              "          const dataTable =\n",
              "            await google.colab.kernel.invokeFunction('convertToInteractive',\n",
              "                                                     [key], {});\n",
              "          if (!dataTable) return;\n",
              "\n",
              "          const docLinkHtml = 'Like what you see? Visit the ' +\n",
              "            '<a target=\"_blank\" href=https://colab.research.google.com/notebooks/data_table.ipynb>data table notebook</a>'\n",
              "            + ' to learn more about interactive tables.';\n",
              "          element.innerHTML = '';\n",
              "          dataTable['output_type'] = 'display_data';\n",
              "          await google.colab.output.renderOutput(dataTable, element);\n",
              "          const docLink = document.createElement('div');\n",
              "          docLink.innerHTML = docLinkHtml;\n",
              "          element.appendChild(docLink);\n",
              "        }\n",
              "      </script>\n",
              "    </div>\n",
              "  </div>\n",
              "  "
            ]
          },
          "metadata": {},
          "execution_count": 11
        }
      ]
    },
    {
      "cell_type": "code",
      "source": [
        "df.style.format('{:.2f}', subset='Assets per employee')"
      ],
      "metadata": {
        "colab": {
          "base_uri": "https://localhost:8080/",
          "height": 238
        },
        "id": "XXv-KiHdgSOb",
        "outputId": "02ec2215-51e1-4e10-8a91-7e96a6c53066"
      },
      "execution_count": null,
      "outputs": [
        {
          "output_type": "execute_result",
          "data": {
            "text/plain": [
              "<pandas.io.formats.style.Styler at 0x7f44f3d5f090>"
            ],
            "text/html": [
              "<style type=\"text/css\">\n",
              "</style>\n",
              "<table id=\"T_b8508_\" class=\"dataframe\">\n",
              "  <thead>\n",
              "    <tr>\n",
              "      <th class=\"blank level0\" >&nbsp;</th>\n",
              "      <th class=\"col_heading level0 col0\" >Company</th>\n",
              "      <th class=\"col_heading level0 col1\" >Total assets</th>\n",
              "      <th class=\"col_heading level0 col2\" >Employees</th>\n",
              "      <th class=\"col_heading level0 col3\" >Assets per employee</th>\n",
              "    </tr>\n",
              "  </thead>\n",
              "  <tbody>\n",
              "    <tr>\n",
              "      <th id=\"T_b8508_level0_row0\" class=\"row_heading level0 row0\" >0</th>\n",
              "      <td id=\"T_b8508_row0_col0\" class=\"data row0 col0\" >a</td>\n",
              "      <td id=\"T_b8508_row0_col1\" class=\"data row0 col1\" >51500</td>\n",
              "      <td id=\"T_b8508_row0_col2\" class=\"data row0 col2\" >10</td>\n",
              "      <td id=\"T_b8508_row0_col3\" class=\"data row0 col3\" >5150.00</td>\n",
              "    </tr>\n",
              "    <tr>\n",
              "      <th id=\"T_b8508_level0_row1\" class=\"row_heading level0 row1\" >1</th>\n",
              "      <td id=\"T_b8508_row1_col0\" class=\"data row1 col0\" >b</td>\n",
              "      <td id=\"T_b8508_row1_col1\" class=\"data row1 col1\" >10400</td>\n",
              "      <td id=\"T_b8508_row1_col2\" class=\"data row1 col2\" >12</td>\n",
              "      <td id=\"T_b8508_row1_col3\" class=\"data row1 col3\" >866.67</td>\n",
              "    </tr>\n",
              "    <tr>\n",
              "      <th id=\"T_b8508_level0_row2\" class=\"row_heading level0 row2\" >2</th>\n",
              "      <td id=\"T_b8508_row2_col0\" class=\"data row2 col0\" >c</td>\n",
              "      <td id=\"T_b8508_row2_col1\" class=\"data row2 col1\" >96000</td>\n",
              "      <td id=\"T_b8508_row2_col2\" class=\"data row2 col2\" >22</td>\n",
              "      <td id=\"T_b8508_row2_col3\" class=\"data row2 col3\" >4363.64</td>\n",
              "    </tr>\n",
              "    <tr>\n",
              "      <th id=\"T_b8508_level0_row3\" class=\"row_heading level0 row3\" >3</th>\n",
              "      <td id=\"T_b8508_row3_col0\" class=\"data row3 col0\" >d</td>\n",
              "      <td id=\"T_b8508_row3_col1\" class=\"data row3 col1\" >1200</td>\n",
              "      <td id=\"T_b8508_row3_col2\" class=\"data row3 col2\" >1</td>\n",
              "      <td id=\"T_b8508_row3_col3\" class=\"data row3 col3\" >1200.00</td>\n",
              "    </tr>\n",
              "    <tr>\n",
              "      <th id=\"T_b8508_level0_row4\" class=\"row_heading level0 row4\" >4</th>\n",
              "      <td id=\"T_b8508_row4_col0\" class=\"data row4 col0\" >e</td>\n",
              "      <td id=\"T_b8508_row4_col1\" class=\"data row4 col1\" >65700</td>\n",
              "      <td id=\"T_b8508_row4_col2\" class=\"data row4 col2\" >16</td>\n",
              "      <td id=\"T_b8508_row4_col3\" class=\"data row4 col3\" >4106.25</td>\n",
              "    </tr>\n",
              "    <tr>\n",
              "      <th id=\"T_b8508_level0_row5\" class=\"row_heading level0 row5\" >5</th>\n",
              "      <td id=\"T_b8508_row5_col0\" class=\"data row5 col0\" >f</td>\n",
              "      <td id=\"T_b8508_row5_col1\" class=\"data row5 col1\" >62000</td>\n",
              "      <td id=\"T_b8508_row5_col2\" class=\"data row5 col2\" >12</td>\n",
              "      <td id=\"T_b8508_row5_col3\" class=\"data row5 col3\" >5166.67</td>\n",
              "    </tr>\n",
              "  </tbody>\n",
              "</table>\n"
            ]
          },
          "metadata": {},
          "execution_count": 12
        }
      ]
    },
    {
      "cell_type": "code",
      "source": [
        "df.max()"
      ],
      "metadata": {
        "colab": {
          "base_uri": "https://localhost:8080/"
        },
        "id": "tTfWZqj6ffma",
        "outputId": "e25e673f-84ed-4aec-d8b4-7a8409a81eaa"
      },
      "execution_count": null,
      "outputs": [
        {
          "output_type": "execute_result",
          "data": {
            "text/plain": [
              "Company                          f\n",
              "Total assets                 96000\n",
              "Employees                       22\n",
              "Assets per employee    5166.666667\n",
              "dtype: object"
            ]
          },
          "metadata": {},
          "execution_count": 13
        }
      ]
    },
    {
      "cell_type": "code",
      "source": [
        "df.min()"
      ],
      "metadata": {
        "colab": {
          "base_uri": "https://localhost:8080/"
        },
        "id": "1RzxIQy8f3I3",
        "outputId": "a8178569-fc5b-420f-e0b7-26c79744c68e"
      },
      "execution_count": null,
      "outputs": [
        {
          "output_type": "execute_result",
          "data": {
            "text/plain": [
              "Company                         a\n",
              "Total assets                 1200\n",
              "Employees                       1\n",
              "Assets per employee    866.666667\n",
              "dtype: object"
            ]
          },
          "metadata": {},
          "execution_count": 14
        }
      ]
    },
    {
      "cell_type": "code",
      "source": [
        "df.info()"
      ],
      "metadata": {
        "colab": {
          "base_uri": "https://localhost:8080/"
        },
        "id": "1XO1AorHf4hp",
        "outputId": "74b5bbd5-8fd8-4025-ab06-967570dc2966"
      },
      "execution_count": null,
      "outputs": [
        {
          "output_type": "stream",
          "name": "stdout",
          "text": [
            "<class 'pandas.core.frame.DataFrame'>\n",
            "RangeIndex: 6 entries, 0 to 5\n",
            "Data columns (total 4 columns):\n",
            " #   Column               Non-Null Count  Dtype  \n",
            "---  ------               --------------  -----  \n",
            " 0   Company              6 non-null      object \n",
            " 1   Total assets         6 non-null      int64  \n",
            " 2   Employees            6 non-null      int64  \n",
            " 3   Assets per employee  6 non-null      float64\n",
            "dtypes: float64(1), int64(2), object(1)\n",
            "memory usage: 320.0+ bytes\n"
          ]
        }
      ]
    },
    {
      "cell_type": "code",
      "source": [
        "df.describe()"
      ],
      "metadata": {
        "colab": {
          "base_uri": "https://localhost:8080/",
          "height": 300
        },
        "id": "v7nxfryxf8Q-",
        "outputId": "8935c294-4d4d-46ca-d483-75a5429d71d5"
      },
      "execution_count": null,
      "outputs": [
        {
          "output_type": "execute_result",
          "data": {
            "text/plain": [
              "       Total assets  Employees  Assets per employee\n",
              "count      6.000000   6.000000             6.000000\n",
              "mean   47800.000000  12.166667          3475.536616\n",
              "std    35858.890111   6.940221          1940.852303\n",
              "min     1200.000000   1.000000           866.666667\n",
              "25%    20675.000000  10.500000          1926.562500\n",
              "50%    56750.000000  12.000000          4234.943182\n",
              "75%    64775.000000  15.000000          4953.409091\n",
              "max    96000.000000  22.000000          5166.666667"
            ],
            "text/html": [
              "\n",
              "  <div id=\"df-4ee3860f-c67b-4981-be6f-4ffbb045bba3\">\n",
              "    <div class=\"colab-df-container\">\n",
              "      <div>\n",
              "<style scoped>\n",
              "    .dataframe tbody tr th:only-of-type {\n",
              "        vertical-align: middle;\n",
              "    }\n",
              "\n",
              "    .dataframe tbody tr th {\n",
              "        vertical-align: top;\n",
              "    }\n",
              "\n",
              "    .dataframe thead th {\n",
              "        text-align: right;\n",
              "    }\n",
              "</style>\n",
              "<table border=\"1\" class=\"dataframe\">\n",
              "  <thead>\n",
              "    <tr style=\"text-align: right;\">\n",
              "      <th></th>\n",
              "      <th>Total assets</th>\n",
              "      <th>Employees</th>\n",
              "      <th>Assets per employee</th>\n",
              "    </tr>\n",
              "  </thead>\n",
              "  <tbody>\n",
              "    <tr>\n",
              "      <th>count</th>\n",
              "      <td>6.000000</td>\n",
              "      <td>6.000000</td>\n",
              "      <td>6.000000</td>\n",
              "    </tr>\n",
              "    <tr>\n",
              "      <th>mean</th>\n",
              "      <td>47800.000000</td>\n",
              "      <td>12.166667</td>\n",
              "      <td>3475.536616</td>\n",
              "    </tr>\n",
              "    <tr>\n",
              "      <th>std</th>\n",
              "      <td>35858.890111</td>\n",
              "      <td>6.940221</td>\n",
              "      <td>1940.852303</td>\n",
              "    </tr>\n",
              "    <tr>\n",
              "      <th>min</th>\n",
              "      <td>1200.000000</td>\n",
              "      <td>1.000000</td>\n",
              "      <td>866.666667</td>\n",
              "    </tr>\n",
              "    <tr>\n",
              "      <th>25%</th>\n",
              "      <td>20675.000000</td>\n",
              "      <td>10.500000</td>\n",
              "      <td>1926.562500</td>\n",
              "    </tr>\n",
              "    <tr>\n",
              "      <th>50%</th>\n",
              "      <td>56750.000000</td>\n",
              "      <td>12.000000</td>\n",
              "      <td>4234.943182</td>\n",
              "    </tr>\n",
              "    <tr>\n",
              "      <th>75%</th>\n",
              "      <td>64775.000000</td>\n",
              "      <td>15.000000</td>\n",
              "      <td>4953.409091</td>\n",
              "    </tr>\n",
              "    <tr>\n",
              "      <th>max</th>\n",
              "      <td>96000.000000</td>\n",
              "      <td>22.000000</td>\n",
              "      <td>5166.666667</td>\n",
              "    </tr>\n",
              "  </tbody>\n",
              "</table>\n",
              "</div>\n",
              "      <button class=\"colab-df-convert\" onclick=\"convertToInteractive('df-4ee3860f-c67b-4981-be6f-4ffbb045bba3')\"\n",
              "              title=\"Convert this dataframe to an interactive table.\"\n",
              "              style=\"display:none;\">\n",
              "        \n",
              "  <svg xmlns=\"http://www.w3.org/2000/svg\" height=\"24px\"viewBox=\"0 0 24 24\"\n",
              "       width=\"24px\">\n",
              "    <path d=\"M0 0h24v24H0V0z\" fill=\"none\"/>\n",
              "    <path d=\"M18.56 5.44l.94 2.06.94-2.06 2.06-.94-2.06-.94-.94-2.06-.94 2.06-2.06.94zm-11 1L8.5 8.5l.94-2.06 2.06-.94-2.06-.94L8.5 2.5l-.94 2.06-2.06.94zm10 10l.94 2.06.94-2.06 2.06-.94-2.06-.94-.94-2.06-.94 2.06-2.06.94z\"/><path d=\"M17.41 7.96l-1.37-1.37c-.4-.4-.92-.59-1.43-.59-.52 0-1.04.2-1.43.59L10.3 9.45l-7.72 7.72c-.78.78-.78 2.05 0 2.83L4 21.41c.39.39.9.59 1.41.59.51 0 1.02-.2 1.41-.59l7.78-7.78 2.81-2.81c.8-.78.8-2.07 0-2.86zM5.41 20L4 18.59l7.72-7.72 1.47 1.35L5.41 20z\"/>\n",
              "  </svg>\n",
              "      </button>\n",
              "      \n",
              "  <style>\n",
              "    .colab-df-container {\n",
              "      display:flex;\n",
              "      flex-wrap:wrap;\n",
              "      gap: 12px;\n",
              "    }\n",
              "\n",
              "    .colab-df-convert {\n",
              "      background-color: #E8F0FE;\n",
              "      border: none;\n",
              "      border-radius: 50%;\n",
              "      cursor: pointer;\n",
              "      display: none;\n",
              "      fill: #1967D2;\n",
              "      height: 32px;\n",
              "      padding: 0 0 0 0;\n",
              "      width: 32px;\n",
              "    }\n",
              "\n",
              "    .colab-df-convert:hover {\n",
              "      background-color: #E2EBFA;\n",
              "      box-shadow: 0px 1px 2px rgba(60, 64, 67, 0.3), 0px 1px 3px 1px rgba(60, 64, 67, 0.15);\n",
              "      fill: #174EA6;\n",
              "    }\n",
              "\n",
              "    [theme=dark] .colab-df-convert {\n",
              "      background-color: #3B4455;\n",
              "      fill: #D2E3FC;\n",
              "    }\n",
              "\n",
              "    [theme=dark] .colab-df-convert:hover {\n",
              "      background-color: #434B5C;\n",
              "      box-shadow: 0px 1px 3px 1px rgba(0, 0, 0, 0.15);\n",
              "      filter: drop-shadow(0px 1px 2px rgba(0, 0, 0, 0.3));\n",
              "      fill: #FFFFFF;\n",
              "    }\n",
              "  </style>\n",
              "\n",
              "      <script>\n",
              "        const buttonEl =\n",
              "          document.querySelector('#df-4ee3860f-c67b-4981-be6f-4ffbb045bba3 button.colab-df-convert');\n",
              "        buttonEl.style.display =\n",
              "          google.colab.kernel.accessAllowed ? 'block' : 'none';\n",
              "\n",
              "        async function convertToInteractive(key) {\n",
              "          const element = document.querySelector('#df-4ee3860f-c67b-4981-be6f-4ffbb045bba3');\n",
              "          const dataTable =\n",
              "            await google.colab.kernel.invokeFunction('convertToInteractive',\n",
              "                                                     [key], {});\n",
              "          if (!dataTable) return;\n",
              "\n",
              "          const docLinkHtml = 'Like what you see? Visit the ' +\n",
              "            '<a target=\"_blank\" href=https://colab.research.google.com/notebooks/data_table.ipynb>data table notebook</a>'\n",
              "            + ' to learn more about interactive tables.';\n",
              "          element.innerHTML = '';\n",
              "          dataTable['output_type'] = 'display_data';\n",
              "          await google.colab.output.renderOutput(dataTable, element);\n",
              "          const docLink = document.createElement('div');\n",
              "          docLink.innerHTML = docLinkHtml;\n",
              "          element.appendChild(docLink);\n",
              "        }\n",
              "      </script>\n",
              "    </div>\n",
              "  </div>\n",
              "  "
            ]
          },
          "metadata": {},
          "execution_count": 16
        }
      ]
    },
    {
      "cell_type": "markdown",
      "source": [
        "## Deleting duplicates and missing values"
      ],
      "metadata": {
        "id": "2COu9TYuZoyx"
      }
    },
    {
      "cell_type": "code",
      "source": [
        "data = {'Company':['a', 'b', 'c', 'd', 'e', 'f', 'g', 'a'], 'Total assets': [51500,10400,96000,1200,65700,62000,100800,51500], 'Employees': [10,12,22,1,16,12,np.nan,10]}"
      ],
      "metadata": {
        "id": "0yjy3vgzWMNy"
      },
      "execution_count": null,
      "outputs": []
    },
    {
      "cell_type": "code",
      "source": [
        "df = pd.DataFrame(data)\n",
        "print(df)"
      ],
      "metadata": {
        "colab": {
          "base_uri": "https://localhost:8080/"
        },
        "id": "r5ZFSzn9WZCK",
        "outputId": "3660c5d9-90c2-45e9-9cc4-f15fe305e92a"
      },
      "execution_count": null,
      "outputs": [
        {
          "output_type": "stream",
          "name": "stdout",
          "text": [
            "  Company  Total assets  Employees\n",
            "0       a         51500       10.0\n",
            "1       b         10400       12.0\n",
            "2       c         96000       22.0\n",
            "3       d          1200        1.0\n",
            "4       e         65700       16.0\n",
            "5       f         62000       12.0\n",
            "6       g        100800        NaN\n",
            "7       a         51500       10.0\n"
          ]
        }
      ]
    },
    {
      "cell_type": "code",
      "source": [
        "df.info()"
      ],
      "metadata": {
        "colab": {
          "base_uri": "https://localhost:8080/"
        },
        "id": "O9qaN8JXWecx",
        "outputId": "10eb2011-7882-47ab-8e90-ad6091cd785e"
      },
      "execution_count": null,
      "outputs": [
        {
          "output_type": "stream",
          "name": "stdout",
          "text": [
            "<class 'pandas.core.frame.DataFrame'>\n",
            "RangeIndex: 8 entries, 0 to 7\n",
            "Data columns (total 3 columns):\n",
            " #   Column        Non-Null Count  Dtype  \n",
            "---  ------        --------------  -----  \n",
            " 0   Company       8 non-null      object \n",
            " 1   Total assets  8 non-null      int64  \n",
            " 2   Employees     7 non-null      float64\n",
            "dtypes: float64(1), int64(1), object(1)\n",
            "memory usage: 320.0+ bytes\n"
          ]
        }
      ]
    },
    {
      "cell_type": "code",
      "source": [
        "df.dropna(inplace=True)\n",
        "print(df)"
      ],
      "metadata": {
        "colab": {
          "base_uri": "https://localhost:8080/"
        },
        "id": "ocQW743JX8hX",
        "outputId": "567f26bc-7964-477d-ec0d-600868624e80"
      },
      "execution_count": null,
      "outputs": [
        {
          "output_type": "stream",
          "name": "stdout",
          "text": [
            "  Company  Total assets  Employees\n",
            "0       a         51500       10.0\n",
            "1       b         10400       12.0\n",
            "2       c         96000       22.0\n",
            "3       d          1200        1.0\n",
            "4       e         65700       16.0\n",
            "5       f         62000       12.0\n",
            "7       a         51500       10.0\n"
          ]
        }
      ]
    },
    {
      "cell_type": "code",
      "source": [
        "df.drop_duplicates(inplace=True)\n",
        "print(df)"
      ],
      "metadata": {
        "colab": {
          "base_uri": "https://localhost:8080/"
        },
        "id": "eOMgVCpiX_3L",
        "outputId": "1212972d-6701-407a-fa2c-55b5f5b5b0f8"
      },
      "execution_count": null,
      "outputs": [
        {
          "output_type": "stream",
          "name": "stdout",
          "text": [
            "  Company  Total assets  Employees\n",
            "0       a         51500       10.0\n",
            "1       b         10400       12.0\n",
            "2       c         96000       22.0\n",
            "3       d          1200        1.0\n",
            "4       e         65700       16.0\n",
            "5       f         62000       12.0\n"
          ]
        }
      ]
    },
    {
      "cell_type": "markdown",
      "source": [
        "## Take a short quiz to test your knowledge\n",
        "\n",
        "![qr.png](data:image/png;base64,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)"
      ],
      "metadata": {
        "id": "ZXpk4fWSVT__"
      }
    }
  ]
}